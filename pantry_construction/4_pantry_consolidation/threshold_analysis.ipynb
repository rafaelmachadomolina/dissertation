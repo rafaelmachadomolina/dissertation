{
 "cells": [
  {
   "cell_type": "markdown",
   "id": "8557d722",
   "metadata": {},
   "source": [
    "# Threshold analysis\n",
    "\n",
    "This notebook analyses the difference in results between a score threshold of 0.75 and 0.80."
   ]
  },
  {
   "cell_type": "code",
   "execution_count": 1,
   "id": "cc452fd2",
   "metadata": {},
   "outputs": [],
   "source": [
    "### Import libraries\n",
    "\n",
    "import os\n",
    "import numpy as np\n",
    "import pandas as pd\n",
    "import matplotlib.pyplot as plt\n",
    "import matplotlib.ticker as mticker\n",
    "\n",
    "import warnings\n",
    "warnings.filterwarnings('ignore')"
   ]
  },
  {
   "cell_type": "code",
   "execution_count": 2,
   "id": "fedcc011",
   "metadata": {},
   "outputs": [],
   "source": [
    "### Define consants\n",
    "\n",
    "PATH_PARQUET = 'parquet/'\n",
    "\n",
    "PLOT_SETUP = {'title': 18,\n",
    "              'subtitle': 16,\n",
    "              'label': 14,\n",
    "              'tick': 12,\n",
    "              'legend': 12}"
   ]
  },
  {
   "cell_type": "code",
   "execution_count": 3,
   "id": "c2338a2d",
   "metadata": {},
   "outputs": [],
   "source": [
    "### Define functions\n",
    "\n",
    "def load_df_from_parquet(filename, directory = PATH_PARQUET):\n",
    "    \n",
    "    pwd = os.getcwd()\n",
    "    path = os.path.join(pwd, directory, filename)\n",
    "    \n",
    "    with open(path, 'rb') as f:\n",
    "        df = pd.read_parquet(f)\n",
    "        print(f'Table successfuly loaded from {filename}')\n",
    "        \n",
    "    return df;"
   ]
  },
  {
   "cell_type": "code",
   "execution_count": 4,
   "id": "dd713ff9",
   "metadata": {},
   "outputs": [
    {
     "name": "stdout",
     "output_type": "stream",
     "text": [
      "Table successfuly loaded from pantry_data_threshold_75.parquet\n",
      "Table successfuly loaded from pantry_data_threshold_80.parquet\n"
     ]
    }
   ],
   "source": [
    "### Load dfs\n",
    "\n",
    "df_75 = load_df_from_parquet('pantry_data_threshold_75.parquet')\n",
    "df_80 = load_df_from_parquet('pantry_data_threshold_80.parquet')"
   ]
  },
  {
   "cell_type": "code",
   "execution_count": 5,
   "id": "d3df7e2f",
   "metadata": {},
   "outputs": [
    {
     "name": "stdout",
     "output_type": "stream",
     "text": [
      "Ingredients with threshold 0.75: 519\n",
      "Ingredients with threshold 0.80: 437\n",
      "Ingredients lost: 82. Percentage loss: 15.8%\n"
     ]
    },
    {
     "data": {
      "text/plain": [
       "['alfalfa-seeds',\n",
       " 'almond-meal',\n",
       " 'anise',\n",
       " 'appenzeller-cheese',\n",
       " 'bass',\n",
       " 'black-lentils',\n",
       " 'bowland-cheese',\n",
       " 'braised-hams',\n",
       " 'branco-melons',\n",
       " 'breams',\n",
       " 'canela-beans',\n",
       " 'canned-beet',\n",
       " 'canned-broad-beans',\n",
       " 'canned-carrots',\n",
       " 'canned-chards',\n",
       " 'canned-corn',\n",
       " 'canned-green-asparagus',\n",
       " 'canned-lentils',\n",
       " 'canned-truffles',\n",
       " 'cara-potatoes',\n",
       " 'cathedral-city-cheddar',\n",
       " 'champignon-mushrooms',\n",
       " 'chevington-cheese',\n",
       " 'coquetdale-cheese',\n",
       " 'cow-milk-yogurt',\n",
       " 'cow-milks',\n",
       " 'derby-cheese',\n",
       " 'dorset-blue-vinney',\n",
       " 'dovedale-cheese',\n",
       " 'dried-apples',\n",
       " 'dried-bananas',\n",
       " 'dried-golden-berries',\n",
       " 'dry-egg-pastas',\n",
       " 'duck-terrines',\n",
       " 'dunlop',\n",
       " 'epoisses-de-bourgogne',\n",
       " 'five-counties-cheese',\n",
       " 'fresh-broad-flour',\n",
       " 'frozen-champignon-mushrooms',\n",
       " 'frozen-citrus',\n",
       " 'frozen-common-beans',\n",
       " 'frozen-dill',\n",
       " 'frozen-parsley',\n",
       " 'frozen-pumpkins',\n",
       " 'garden-chervil-seeds',\n",
       " 'grape-seed-oils',\n",
       " 'guineafowl-eggs',\n",
       " 'hemp-oils',\n",
       " 'jumbo-shrimps',\n",
       " 'kakis',\n",
       " 'lanark-blue',\n",
       " 'lingonberries',\n",
       " 'mangoes-in-syrup',\n",
       " 'mustard-oils',\n",
       " 'palm-oils',\n",
       " 'pheasant-eggs',\n",
       " 'pickled-aubergines',\n",
       " 'pickled-carrots',\n",
       " 'pickled-herring',\n",
       " 'pistachio-oils',\n",
       " 'poppyseed-oils',\n",
       " 'pumpkin-tomatoes',\n",
       " 'quince-cheeses',\n",
       " 'rabbit-meat',\n",
       " 'rabbit-terrines',\n",
       " 'red-pine-mushrooms',\n",
       " 'roe-deer-meat',\n",
       " 'sardines-in-sunflower-oil',\n",
       " 'scarlet-runner-beans',\n",
       " 'shelled-pecan-nuts',\n",
       " 'smoked-herrings',\n",
       " 'smoked-tunas',\n",
       " 'stinking-bishop-cheese',\n",
       " 'swaledale-cheese',\n",
       " 'tomato-purees',\n",
       " 'trout-terrines',\n",
       " 'udon',\n",
       " 'unsalted-margarines',\n",
       " 'white-gouda',\n",
       " 'whole-black-olives',\n",
       " 'whole-dates',\n",
       " 'whole-milk-yogurts']"
      ]
     },
     "execution_count": 5,
     "metadata": {},
     "output_type": "execute_result"
    }
   ],
   "source": [
    "### Ingredient loss\n",
    "\n",
    "ser_ingredients_75 = df_75[['matched_ingredient']].drop_duplicates()\n",
    "ser_ingredients_80 = df_80['matched_ingredient'].drop_duplicates()\n",
    "\n",
    "# Calculate lengths\n",
    "LEN_75 = len(ser_ingredients_75)\n",
    "LEN_80 = len(ser_ingredients_80)\n",
    "PERCENTAGE_INGREDIENT_LOSS = np.abs(LEN_75 - LEN_80) / LEN_75\n",
    "\n",
    "# Print results\n",
    "print(f'Ingredients with threshold 0.75: {LEN_75}')\n",
    "print(f'Ingredients with threshold 0.80: {LEN_80}')\n",
    "print(f'Ingredients lost: {np.abs(LEN_75 - LEN_80)}. Percentage loss: {PERCENTAGE_INGREDIENT_LOSS:.1%}')\n",
    "\n",
    "# Compute lost ingredients\n",
    "list_lost_ingredients = ser_ingredients_75[-(ser_ingredients_75['matched_ingredient'].isin(ser_ingredients_80))]['matched_ingredient'].tolist()\n",
    "list_lost_ingredients"
   ]
  },
  {
   "cell_type": "code",
   "execution_count": 6,
   "id": "66f543f1",
   "metadata": {},
   "outputs": [
    {
     "name": "stdout",
     "output_type": "stream",
     "text": [
      "Mean property variation: 6.61%\n"
     ]
    }
   ],
   "source": [
    "### Compute property variations\n",
    "\n",
    "COLS_MATCH = ['matched_ingredient', 'property']\n",
    "\n",
    "# Merge dataframes\n",
    "df_property_variation = pd.merge(df_75[COLS_MATCH + ['reference_value']].rename(columns = {'reference_value': 'value_75'}),\n",
    "                                df_80[COLS_MATCH + ['reference_value']].rename(columns = {'reference_value': 'value_80'}),\n",
    "                                how = 'inner',\n",
    "                                on = COLS_MATCH)\n",
    "\n",
    "# Compute variations\n",
    "df_property_variation['difference'] = df_property_variation['value_80'] - df_property_variation['value_75']\n",
    "df_property_variation['variation'] = df_property_variation['difference'] / df_property_variation['value_75']\n",
    "\n",
    "df_property_variation.loc[df_property_variation['difference'] == 0, 'variation'] = 0.0\n",
    "df_property_variation = df_property_variation[df_property_variation['variation'] != np.inf]\n",
    "\n",
    "# Exclude scores for mean variation\n",
    "MEAN_PROPERTY_VARIATION = df_property_variation[df_property_variation['property'] != 'score']['variation'].mean()\n",
    "print(f'Mean property variation: {MEAN_PROPERTY_VARIATION:.2%}')"
   ]
  },
  {
   "cell_type": "code",
   "execution_count": 7,
   "id": "0fbf05c7",
   "metadata": {},
   "outputs": [
    {
     "name": "stdout",
     "output_type": "stream",
     "text": [
      "Total observations: 15081\n",
      "Total observations with 0% change: 13859 (91.90%)\n",
      "Total observations with +- 5% change: 14304 (94.85%)\n"
     ]
    },
    {
     "data": {
      "image/png": "[encoded data removed]",
      "text/plain": [
       "<Figure size 806.4x432 with 1 Axes>"
      ]
     },
     "metadata": {
      "needs_background": "light"
     },
     "output_type": "display_data"
    }
   ],
   "source": [
    "### Plot property variation\n",
    "\n",
    "RESOLUTION = 0.01\n",
    "RANGE = 0.5\n",
    "\n",
    "# Prepare dataframe\n",
    "df_plot_variation = df_property_variation[['matched_ingredient', 'property', 'variation']]\n",
    "NROWS_DF = len(df_plot_variation)\n",
    "print(f'Total observations: {NROWS_DF}')\n",
    "\n",
    "df_plot_variation['variation_round'] = round(df_plot_variation['variation'] / RESOLUTION) * RESOLUTION\n",
    "\n",
    "df_plot_variation_grouped = df_plot_variation[['variation_round']].groupby(['variation_round'], as_index = False).size()\n",
    "\n",
    "NROWS_ZERO = df_plot_variation_grouped[df_plot_variation_grouped['variation_round'] == 0]['size'].sum()\n",
    "NROWS_FIVE = df_plot_variation_grouped[df_plot_variation_grouped['variation_round'].between(-0.05, 0.05)]['size'].sum()\n",
    "\n",
    "print(f'Total observations with 0% change: {NROWS_ZERO} ({NROWS_ZERO/NROWS_DF :.2%})')\n",
    "print(f'Total observations with +- 5% change: {NROWS_FIVE} ({NROWS_FIVE/NROWS_DF :.2%})')\n",
    "\n",
    "# Plot variation by property\n",
    "def p_90(x):\n",
    "    return x.quantile(0.9)\n",
    "\n",
    "df_plot_variation_property = df_plot_variation[['property', 'variation']]\n",
    "df_plot_variation_property = df_plot_variation_property.groupby('property', as_index = False).agg(['size', 'mean', 'median', p_90]).droplevel(0, axis = 1)\n",
    "\n",
    "# Sort by mean and drop score\n",
    "df_plot_variation_property.sort_values(by = 'mean', ascending = False, inplace = True)\n",
    "df_plot_variation_property.drop(index = 'score', inplace = True)\n",
    "\n",
    "# Drop indexes to capture property and retrieve only top 8\n",
    "df_plot_variation_property.reset_index(inplace = True)\n",
    "df_plot_variation_property = df_plot_variation_property.head(8)\n",
    "\n",
    "# Plot consants\n",
    "HEIGHT = 0.25\n",
    "\n",
    "# Define figure\n",
    "fig = plt.figure(1, (16 * 0.7, 6))\n",
    "ax = fig.add_subplot(1, 1, 1)\n",
    "\n",
    "# Plot mean\n",
    "ax.barh(df_plot_variation_property.index - HEIGHT,\n",
    "       df_plot_variation_property['mean'] * 100,\n",
    "       height = HEIGHT,\n",
    "       color = '#708090',\n",
    "       label = 'mean')\n",
    "\n",
    "# Plot pct 90\n",
    "ax.barh(df_plot_variation_property.index,\n",
    "       df_plot_variation_property['p_90'] * 100,\n",
    "       height = HEIGHT,\n",
    "       color = '#f99245',\n",
    "       label = 'percentile 90')\n",
    "\n",
    "# Plot median\n",
    "ax.barh(df_plot_variation_property.index + HEIGHT,\n",
    "       df_plot_variation_property['median'] * 100,\n",
    "       height = HEIGHT,\n",
    "       color = '#097969',\n",
    "       label = 'median')\n",
    "\n",
    "# Format y axis\n",
    "ax.set_yticks(df_plot_variation_property.index)\n",
    "ax.set_yticklabels(df_plot_variation_property['property'])\n",
    "ax.tick_params(axis = 'y', which = 'both', labelsize = PLOT_SETUP['tick'])\n",
    "ax.invert_yaxis()\n",
    "\n",
    "# Format x axis\n",
    "xticks = mticker.FormatStrFormatter('%.0f%%')\n",
    "ax.xaxis.set_major_formatter(xticks)\n",
    "ax.xaxis.set_label_position('top') \n",
    "ax.tick_params(axis = 'x', which = 'both',\n",
    "               labelbottom = False, labeltop = True,\n",
    "               bottom = False, top = True, labelsize = PLOT_SETUP['tick'])\n",
    "\n",
    "# Put labels\n",
    "ax.set_xlabel('Variation magnitude', fontsize = PLOT_SETUP['label'])\n",
    "ax.set_ylabel('Property', fontsize = PLOT_SETUP['label'])\n",
    "ax.set_title('Variation of properties - several metrics\\n', fontsize = PLOT_SETUP['title'])\n",
    "ax.legend(loc = 'best', fontsize = PLOT_SETUP['legend'])\n",
    "\n",
    "plt.show()"
   ]
  },
  {
   "cell_type": "code",
   "execution_count": 8,
   "id": "ac0f1ec3",
   "metadata": {},
   "outputs": [
    {
     "data": {
      "text/html": [
       "<div>\n",
       "<style scoped>\n",
       "    .dataframe tbody tr th:only-of-type {\n",
       "        vertical-align: middle;\n",
       "    }\n",
       "\n",
       "    .dataframe tbody tr th {\n",
       "        vertical-align: top;\n",
       "    }\n",
       "\n",
       "    .dataframe thead th {\n",
       "        text-align: right;\n",
       "    }\n",
       "</style>\n",
       "<table border=\"1\" class=\"dataframe\">\n",
       "  <thead>\n",
       "    <tr style=\"text-align: right;\">\n",
       "      <th></th>\n",
       "      <th>matched_ingredient</th>\n",
       "      <th>property</th>\n",
       "      <th>value_75</th>\n",
       "      <th>value_80</th>\n",
       "      <th>difference</th>\n",
       "      <th>variation</th>\n",
       "    </tr>\n",
       "  </thead>\n",
       "  <tbody>\n",
       "    <tr>\n",
       "      <th>3660</th>\n",
       "      <td>white-beans</td>\n",
       "      <td>saturated</td>\n",
       "      <td>0.10</td>\n",
       "      <td>22.00</td>\n",
       "      <td>21.90</td>\n",
       "      <td>219.000000</td>\n",
       "    </tr>\n",
       "    <tr>\n",
       "      <th>780</th>\n",
       "      <td>camembert</td>\n",
       "      <td>carbohydrate</td>\n",
       "      <td>0.01</td>\n",
       "      <td>1.50</td>\n",
       "      <td>1.49</td>\n",
       "      <td>149.000000</td>\n",
       "    </tr>\n",
       "    <tr>\n",
       "      <th>3654</th>\n",
       "      <td>white-beans</td>\n",
       "      <td>carbohydrate</td>\n",
       "      <td>3.20</td>\n",
       "      <td>54.00</td>\n",
       "      <td>50.80</td>\n",
       "      <td>15.875000</td>\n",
       "    </tr>\n",
       "    <tr>\n",
       "      <th>1089</th>\n",
       "      <td>coconut-butter</td>\n",
       "      <td>saturated</td>\n",
       "      <td>6.65</td>\n",
       "      <td>63.65</td>\n",
       "      <td>57.00</td>\n",
       "      <td>8.571429</td>\n",
       "    </tr>\n",
       "    <tr>\n",
       "      <th>1227</th>\n",
       "      <td>dried-horn-of-plenty-mushrooms</td>\n",
       "      <td>carbohydrate</td>\n",
       "      <td>0.40</td>\n",
       "      <td>3.00</td>\n",
       "      <td>2.60</td>\n",
       "      <td>6.500000</td>\n",
       "    </tr>\n",
       "  </tbody>\n",
       "</table>\n",
       "</div>"
      ],
      "text/plain": [
       "                  matched_ingredient      property  value_75  value_80  \\\n",
       "3660                     white-beans     saturated      0.10     22.00   \n",
       "780                        camembert  carbohydrate      0.01      1.50   \n",
       "3654                     white-beans  carbohydrate      3.20     54.00   \n",
       "1089                  coconut-butter     saturated      6.65     63.65   \n",
       "1227  dried-horn-of-plenty-mushrooms  carbohydrate      0.40      3.00   \n",
       "\n",
       "      difference   variation  \n",
       "3660       21.90  219.000000  \n",
       "780         1.49  149.000000  \n",
       "3654       50.80   15.875000  \n",
       "1089       57.00    8.571429  \n",
       "1227        2.60    6.500000  "
      ]
     },
     "execution_count": 8,
     "metadata": {},
     "output_type": "execute_result"
    }
   ],
   "source": [
    "### Explore saturateds\n",
    "\n",
    "df_saturated = df_property_variation[df_property_variation['property'].isin(['saturated', 'carbohydrate'])]\n",
    "\n",
    "# white-beans is a good example of missed data, coconut-butter and red-beans is a good example of quality gain in saturateds\n",
    "\n",
    "df_saturated.sort_values(by = 'variation', ascending = False).head()"
   ]
  },
  {
   "cell_type": "markdown",
   "id": "d8c74252",
   "metadata": {},
   "source": [
    "Scatterplot of change of property vs. row retention --> if retention is low, change may be high. Plot every ingredient as a point, maybe combine colours with properties."
   ]
  },
  {
   "cell_type": "code",
   "execution_count": 9,
   "id": "25c82753",
   "metadata": {},
   "outputs": [],
   "source": [
    "### Calculate merged dataframe\n",
    "\n",
    "df_75_preprocessed = df_75[['matched_ingredient', 'property_type', 'property', 'n_rows', 'reference_value']]\n",
    "df_80_preprocessed = df_80[['matched_ingredient', 'property_type', 'property', 'n_rows', 'reference_value']]\n",
    "\n",
    "df_75_preprocessed.rename(columns = {'n_rows': 'n_rows_75', 'reference_value': 'reference_value_75'}, inplace = True)\n",
    "df_80_preprocessed.rename(columns = {'n_rows': 'n_rows_80', 'reference_value': 'reference_value_80'}, inplace = True)\n",
    "\n",
    "# Filter by nutrients only and drop properties with 0 or less as reference value\n",
    "df_75_preprocessed = df_75_preprocessed[df_75_preprocessed['property_type'] == 'macro_nutrient']\n",
    "df_75_preprocessed = df_75_preprocessed[df_75_preprocessed['reference_value_75'] > 0]\n",
    "\n",
    "df_80_preprocessed = df_80_preprocessed[df_80_preprocessed['property_type'] == 'macro_nutrient']\n",
    "df_80_preprocessed = df_80_preprocessed[df_80_preprocessed['reference_value_80'] > 0]\n",
    "\n",
    "df_75_preprocessed.drop(columns = 'property_type', inplace = True)\n",
    "df_80_preprocessed.drop(columns = 'property_type', inplace = True)\n",
    "\n",
    "# Merge datasets\n",
    "df_log_variation = pd.merge(df_75_preprocessed,\n",
    "                           df_80_preprocessed,\n",
    "                           how = 'inner',\n",
    "                           on = ['matched_ingredient', 'property'])\n",
    "\n",
    "# Compute changes\n",
    "df_log_variation['row_retention'] = df_log_variation['n_rows_80'] * 1.0 / df_log_variation['n_rows_75']\n",
    "df_log_variation['reference_log_change'] = np.log(df_log_variation['reference_value_80'] / df_log_variation['reference_value_75'])\n"
   ]
  },
  {
   "cell_type": "code",
   "execution_count": 10,
   "id": "72f871f7",
   "metadata": {},
   "outputs": [
    {
     "data": {
      "image/png": "[encoded data removed]",
      "text/plain": [
       "<Figure size 936x648 with 1 Axes>"
      ]
     },
     "metadata": {
      "needs_background": "light"
     },
     "output_type": "display_data"
    }
   ],
   "source": [
    "### Plot scatterplot\n",
    "\n",
    "fig = plt.figure(1, (13, 9))\n",
    "ax = fig.add_subplot(1, 1, 1)\n",
    "\n",
    "ax.scatter(df_log_variation['row_retention'],\n",
    "          df_log_variation['reference_log_change'])\n",
    "\n",
    "\n",
    "plt.show()"
   ]
  },
  {
   "cell_type": "code",
   "execution_count": null,
   "id": "e129feed",
   "metadata": {},
   "outputs": [],
   "source": []
  }
 ],
 "metadata": {
  "kernelspec": {
   "display_name": "Python 3 (ipykernel)",
   "language": "python",
   "name": "python3"
  },
  "language_info": {
   "codemirror_mode": {
    "name": "ipython",
    "version": 3
   },
   "file_extension": ".py",
   "mimetype": "text/x-python",
   "name": "python",
   "nbconvert_exporter": "python",
   "pygments_lexer": "ipython3",
   "version": "3.8.2"
  }
 },
 "nbformat": 4,
 "nbformat_minor": 5
}
